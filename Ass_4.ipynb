{
 "cells": [
  {
   "cell_type": "markdown",
   "id": "153828b8-c7e9-4f1c-ada3-6ba56a73c268",
   "metadata": {},
   "source": [
    "Assignment 4"
   ]
  },
  {
   "cell_type": "code",
   "execution_count": 1,
   "id": "4d2782ed-064f-4c14-8a8e-78973fcacf65",
   "metadata": {},
   "outputs": [
    {
     "name": "stdout",
     "output_type": "stream",
     "text": [
      "{'West': ['Osun', 'Ogun', 'Ekiti', 'Ondo', 'Lagos'], 'North': ['Kano', 'Yola', 'Jalingo', 'Maiduguri'], 'East': ['Enugu', 'Abia', 'Delta', 'Rivers']}\n"
     ]
    }
   ],
   "source": [
    "West = ['Osun', 'Ogun', 'Ekiti', 'Ondo', 'Sokoto']\n",
    "North = ['Kano', 'Yola', 'Jalingo', 'Maiduguri']\n",
    "East = ['Enugu', 'Abia', 'Delta', 'Rivers']\n",
    "\n",
    "West[4] = 'Lagos'\n",
    "\n",
    "Nigeria = {}\n",
    "\n",
    "\n",
    "\n",
    "Nigeria = {'West': West, 'North': North, 'East': East}\n",
    "print(Nigeria)\n"
   ]
  },
  {
   "cell_type": "code",
   "execution_count": null,
   "id": "b77edfd6-850b-4bdb-98d2-14f1e18048e8",
   "metadata": {},
   "outputs": [],
   "source": []
  }
 ],
 "metadata": {
  "kernelspec": {
   "display_name": "Python 3 (ipykernel)",
   "language": "python",
   "name": "python3"
  },
  "language_info": {
   "codemirror_mode": {
    "name": "ipython",
    "version": 3
   },
   "file_extension": ".py",
   "mimetype": "text/x-python",
   "name": "python",
   "nbconvert_exporter": "python",
   "pygments_lexer": "ipython3",
   "version": "3.11.7"
  }
 },
 "nbformat": 4,
 "nbformat_minor": 5
}
